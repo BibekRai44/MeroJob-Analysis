{
 "cells": [
  {
   "attachments": {},
   "cell_type": "markdown",
   "metadata": {},
   "source": [
    "**In this notebook , we perform Basic Exploratory Data Analysis of the Dataframe. The Dataset is obtained by scraping merojob webisite.**"
   ]
  },
  {
   "cell_type": "code",
   "execution_count": 3,
   "metadata": {},
   "outputs": [],
   "source": [
    "#importing required libraries\n",
    "\n",
    "import pandas as pd\n",
    "import numpy as np\n",
    "import warnings\n",
    "warnings.filterwarnings('ignore')"
   ]
  },
  {
   "cell_type": "code",
   "execution_count": 4,
   "metadata": {},
   "outputs": [
    {
     "data": {
      "text/html": [
       "<div>\n",
       "<style scoped>\n",
       "    .dataframe tbody tr th:only-of-type {\n",
       "        vertical-align: middle;\n",
       "    }\n",
       "\n",
       "    .dataframe tbody tr th {\n",
       "        vertical-align: top;\n",
       "    }\n",
       "\n",
       "    .dataframe thead th {\n",
       "        text-align: right;\n",
       "    }\n",
       "</style>\n",
       "<table border=\"1\" class=\"dataframe\">\n",
       "  <thead>\n",
       "    <tr style=\"text-align: right;\">\n",
       "      <th></th>\n",
       "      <th>Unnamed: 0</th>\n",
       "      <th>Title</th>\n",
       "      <th>Company</th>\n",
       "      <th>Location</th>\n",
       "      <th>KeySkills</th>\n",
       "      <th>job_category</th>\n",
       "      <th>job_level</th>\n",
       "      <th>no_of_vacancy</th>\n",
       "      <th>employment_type</th>\n",
       "      <th>offered_salary</th>\n",
       "      <th>education_level</th>\n",
       "      <th>experience_required</th>\n",
       "    </tr>\n",
       "  </thead>\n",
       "  <tbody>\n",
       "    <tr>\n",
       "      <th>0</th>\n",
       "      <td>0</td>\n",
       "      <td>Backend Developer</td>\n",
       "      <td>Codeware Lab</td>\n",
       "      <td>Dharmasthal Marg, Kathmandu 44600, Nepal</td>\n",
       "      <td>['Communication', 'Teamwork', 'Java', 'Analyti...</td>\n",
       "      <td>IT &amp; Telecommunication\\n &gt; Programmer/ Softwar...</td>\n",
       "      <td>Mid Level</td>\n",
       "      <td>[ 25 ]</td>\n",
       "      <td>Full Time</td>\n",
       "      <td>NRs. 200,000.00 - 500,000.00 Monthly</td>\n",
       "      <td>Bachelor</td>\n",
       "      <td>More than or equals to 3 years</td>\n",
       "    </tr>\n",
       "    <tr>\n",
       "      <th>1</th>\n",
       "      <td>1</td>\n",
       "      <td>Asp. Net Developer</td>\n",
       "      <td>Exotrac</td>\n",
       "      <td>Old Baneshwor</td>\n",
       "      <td>['Html', 'Css', 'Javascript']</td>\n",
       "      <td>IT &amp; Telecommunication\\n &gt; Database Engineer/D...</td>\n",
       "      <td>Senior Level</td>\n",
       "      <td>[ 10 ]</td>\n",
       "      <td>Full Time</td>\n",
       "      <td>$. 1,000.00 - 1,500.00 Monthly</td>\n",
       "      <td>Bachelor</td>\n",
       "      <td>More than or equals to 3 years</td>\n",
       "    </tr>\n",
       "    <tr>\n",
       "      <th>2</th>\n",
       "      <td>2</td>\n",
       "      <td>Linux Ninja Wanted ( Excellent …</td>\n",
       "      <td>Tech Central</td>\n",
       "      <td>Kathmandu, Nepal</td>\n",
       "      <td>['Communication', 'Problem Solving', 'Linux', ...</td>\n",
       "      <td>IT &amp; Telecommunication</td>\n",
       "      <td>Mid Level</td>\n",
       "      <td>[ 10 ]</td>\n",
       "      <td>Full Time</td>\n",
       "      <td>Negotiable</td>\n",
       "      <td>Bachelor</td>\n",
       "      <td>More than or equals to 5 years</td>\n",
       "    </tr>\n",
       "    <tr>\n",
       "      <th>3</th>\n",
       "      <td>3</td>\n",
       "      <td>Senior Laravel Web Developer</td>\n",
       "      <td>SabKura.com</td>\n",
       "      <td>New Baneshwor, Kathmandu, Nepal</td>\n",
       "      <td>['Php', 'Html', 'Css', 'Javascript', 'Vue Js']</td>\n",
       "      <td>IT &amp; Telecommunication\\n &gt; Content Developer, ...</td>\n",
       "      <td>Mid Level</td>\n",
       "      <td>[ 5 ]</td>\n",
       "      <td>Full Time</td>\n",
       "      <td>NRs. 80,000.00 - 160,000.00 Monthly</td>\n",
       "      <td>Bachelor</td>\n",
       "      <td>More than or equals to 4 years</td>\n",
       "    </tr>\n",
       "    <tr>\n",
       "      <th>4</th>\n",
       "      <td>4</td>\n",
       "      <td>Senior Software Engineer (Pytho…</td>\n",
       "      <td>Logpoint Nepal</td>\n",
       "      <td>Jawalakhel ,Lalitpur</td>\n",
       "      <td>['Teamwork', 'Problem Solving', 'Analytical Sk...</td>\n",
       "      <td>IT &amp; Telecommunication</td>\n",
       "      <td>Senior Level</td>\n",
       "      <td>[ 5 ]</td>\n",
       "      <td>Full Time</td>\n",
       "      <td>Negotiable</td>\n",
       "      <td>Bachelor</td>\n",
       "      <td>More than or equals to 5 years</td>\n",
       "    </tr>\n",
       "  </tbody>\n",
       "</table>\n",
       "</div>"
      ],
      "text/plain": [
       "   Unnamed: 0                             Title         Company  \\\n",
       "0           0                 Backend Developer    Codeware Lab   \n",
       "1           1                Asp. Net Developer         Exotrac   \n",
       "2           2  Linux Ninja Wanted ( Excellent …    Tech Central   \n",
       "3           3      Senior Laravel Web Developer     SabKura.com   \n",
       "4           4  Senior Software Engineer (Pytho…  Logpoint Nepal   \n",
       "\n",
       "                                   Location  \\\n",
       "0  Dharmasthal Marg, Kathmandu 44600, Nepal   \n",
       "1                             Old Baneshwor   \n",
       "2                          Kathmandu, Nepal   \n",
       "3           New Baneshwor, Kathmandu, Nepal   \n",
       "4                      Jawalakhel ,Lalitpur   \n",
       "\n",
       "                                           KeySkills  \\\n",
       "0  ['Communication', 'Teamwork', 'Java', 'Analyti...   \n",
       "1                      ['Html', 'Css', 'Javascript']   \n",
       "2  ['Communication', 'Problem Solving', 'Linux', ...   \n",
       "3     ['Php', 'Html', 'Css', 'Javascript', 'Vue Js']   \n",
       "4  ['Teamwork', 'Problem Solving', 'Analytical Sk...   \n",
       "\n",
       "                                        job_category     job_level  \\\n",
       "0  IT & Telecommunication\\n > Programmer/ Softwar...     Mid Level   \n",
       "1  IT & Telecommunication\\n > Database Engineer/D...  Senior Level   \n",
       "2                             IT & Telecommunication     Mid Level   \n",
       "3  IT & Telecommunication\\n > Content Developer, ...     Mid Level   \n",
       "4                             IT & Telecommunication  Senior Level   \n",
       "\n",
       "  no_of_vacancy employment_type                        offered_salary  \\\n",
       "0        [ 25 ]       Full Time  NRs. 200,000.00 - 500,000.00 Monthly   \n",
       "1        [ 10 ]       Full Time        $. 1,000.00 - 1,500.00 Monthly   \n",
       "2        [ 10 ]       Full Time                            Negotiable   \n",
       "3         [ 5 ]       Full Time   NRs. 80,000.00 - 160,000.00 Monthly   \n",
       "4         [ 5 ]       Full Time                            Negotiable   \n",
       "\n",
       "  education_level             experience_required  \n",
       "0        Bachelor  More than or equals to 3 years  \n",
       "1        Bachelor  More than or equals to 3 years  \n",
       "2        Bachelor  More than or equals to 5 years  \n",
       "3        Bachelor  More than or equals to 4 years  \n",
       "4        Bachelor  More than or equals to 5 years  "
      ]
     },
     "execution_count": 4,
     "metadata": {},
     "output_type": "execute_result"
    }
   ],
   "source": [
    "#reading the dataset\n",
    "data=pd.read_csv('/Users/bibekrai/tensorflow-test/MeroJob-Analysis/mergeddata.csv')\n",
    "data.head()"
   ]
  },
  {
   "attachments": {},
   "cell_type": "markdown",
   "metadata": {},
   "source": [
    "## Perfroming EDA"
   ]
  },
  {
   "cell_type": "code",
   "execution_count": 5,
   "metadata": {},
   "outputs": [
    {
     "data": {
      "text/plain": [
       "Index(['Unnamed: 0', 'Title', 'Company', 'Location', 'KeySkills',\n",
       "       'job_category', 'job_level', 'no_of_vacancy', 'employment_type',\n",
       "       'offered_salary', 'education_level', 'experience_required'],\n",
       "      dtype='object')"
      ]
     },
     "execution_count": 5,
     "metadata": {},
     "output_type": "execute_result"
    }
   ],
   "source": [
    "#columns that are presented in dataset\n",
    "data.columns"
   ]
  },
  {
   "cell_type": "code",
   "execution_count": 6,
   "metadata": {},
   "outputs": [
    {
     "data": {
      "text/plain": [
       "Unnamed: 0             1\n",
       "Title                  1\n",
       "Company                1\n",
       "Location               1\n",
       "KeySkills              1\n",
       "job_category           1\n",
       "job_level              1\n",
       "no_of_vacancy          1\n",
       "employment_type        1\n",
       "offered_salary         1\n",
       "education_level        1\n",
       "experience_required    1\n",
       "dtype: int64"
      ]
     },
     "execution_count": 6,
     "metadata": {},
     "output_type": "execute_result"
    }
   ],
   "source": [
    "#total columns present in the dataset\n",
    "\n",
    "data.columns.value_counts()"
   ]
  },
  {
   "cell_type": "code",
   "execution_count": 7,
   "metadata": {},
   "outputs": [
    {
     "data": {
      "text/plain": [
       "(60, 12)"
      ]
     },
     "execution_count": 7,
     "metadata": {},
     "output_type": "execute_result"
    }
   ],
   "source": [
    "#checking the shape of the dataframe\n",
    "\n",
    "data.shape\n",
    "\n",
    "#the dataframe got 60 rows and 12 columns"
   ]
  },
  {
   "cell_type": "code",
   "execution_count": 8,
   "metadata": {},
   "outputs": [
    {
     "data": {
      "text/plain": [
       "array([False, False, False, False, False, False, False, False, False,\n",
       "       False, False, False])"
      ]
     },
     "execution_count": 8,
     "metadata": {},
     "output_type": "execute_result"
    }
   ],
   "source": [
    "#checking if the dataset columns got any null value or not\n",
    "\n",
    "data.columns.isnull()"
   ]
  },
  {
   "cell_type": "code",
   "execution_count": 19,
   "metadata": {},
   "outputs": [
    {
     "name": "stdout",
     "output_type": "stream",
     "text": [
      "<class 'pandas.core.frame.DataFrame'>\n",
      "RangeIndex: 60 entries, 0 to 59\n",
      "Data columns (total 12 columns):\n",
      " #   Column               Non-Null Count  Dtype \n",
      "---  ------               --------------  ----- \n",
      " 0   Unnamed: 0           60 non-null     int64 \n",
      " 1   Title                60 non-null     object\n",
      " 2   Company              60 non-null     object\n",
      " 3   Location             60 non-null     object\n",
      " 4   KeySkills            60 non-null     object\n",
      " 5   job_category         60 non-null     object\n",
      " 6   job_level            60 non-null     object\n",
      " 7   no_of_vacancy        60 non-null     object\n",
      " 8   employment_type      60 non-null     object\n",
      " 9   offered_salary       60 non-null     object\n",
      " 10  education_level      60 non-null     object\n",
      " 11  experience_required  60 non-null     object\n",
      "dtypes: int64(1), object(11)\n",
      "memory usage: 5.8+ KB\n"
     ]
    }
   ],
   "source": [
    "#basic info of columns\n",
    "\n",
    "data.info()"
   ]
  },
  {
   "cell_type": "code",
   "execution_count": 21,
   "metadata": {},
   "outputs": [
    {
     "data": {
      "text/html": [
       "<div>\n",
       "<style scoped>\n",
       "    .dataframe tbody tr th:only-of-type {\n",
       "        vertical-align: middle;\n",
       "    }\n",
       "\n",
       "    .dataframe tbody tr th {\n",
       "        vertical-align: top;\n",
       "    }\n",
       "\n",
       "    .dataframe thead th {\n",
       "        text-align: right;\n",
       "    }\n",
       "</style>\n",
       "<table border=\"1\" class=\"dataframe\">\n",
       "  <thead>\n",
       "    <tr style=\"text-align: right;\">\n",
       "      <th></th>\n",
       "      <th>id</th>\n",
       "      <th>Title</th>\n",
       "      <th>Company</th>\n",
       "      <th>Location</th>\n",
       "      <th>KeySkills</th>\n",
       "      <th>job_category</th>\n",
       "      <th>job_level</th>\n",
       "      <th>no_of_vacancy</th>\n",
       "      <th>employment_type</th>\n",
       "      <th>offered_salary</th>\n",
       "      <th>education_level</th>\n",
       "      <th>experience_required</th>\n",
       "    </tr>\n",
       "  </thead>\n",
       "  <tbody>\n",
       "    <tr>\n",
       "      <th>0</th>\n",
       "      <td>0</td>\n",
       "      <td>Backend Developer</td>\n",
       "      <td>Codeware Lab</td>\n",
       "      <td>Dharmasthal Marg, Kathmandu 44600, Nepal</td>\n",
       "      <td>['Communication', 'Teamwork', 'Java', 'Analyti...</td>\n",
       "      <td>IT &amp; Telecommunication\\n &gt; Programmer/ Softwar...</td>\n",
       "      <td>Mid Level</td>\n",
       "      <td>[ 25 ]</td>\n",
       "      <td>Full Time</td>\n",
       "      <td>NRs. 200,000.00 - 500,000.00 Monthly</td>\n",
       "      <td>Bachelor</td>\n",
       "      <td>More than or equals to 3 years</td>\n",
       "    </tr>\n",
       "    <tr>\n",
       "      <th>1</th>\n",
       "      <td>1</td>\n",
       "      <td>Asp. Net Developer</td>\n",
       "      <td>Exotrac</td>\n",
       "      <td>Old Baneshwor</td>\n",
       "      <td>['Html', 'Css', 'Javascript']</td>\n",
       "      <td>IT &amp; Telecommunication\\n &gt; Database Engineer/D...</td>\n",
       "      <td>Senior Level</td>\n",
       "      <td>[ 10 ]</td>\n",
       "      <td>Full Time</td>\n",
       "      <td>$. 1,000.00 - 1,500.00 Monthly</td>\n",
       "      <td>Bachelor</td>\n",
       "      <td>More than or equals to 3 years</td>\n",
       "    </tr>\n",
       "    <tr>\n",
       "      <th>2</th>\n",
       "      <td>2</td>\n",
       "      <td>Linux Ninja Wanted ( Excellent …</td>\n",
       "      <td>Tech Central</td>\n",
       "      <td>Kathmandu, Nepal</td>\n",
       "      <td>['Communication', 'Problem Solving', 'Linux', ...</td>\n",
       "      <td>IT &amp; Telecommunication</td>\n",
       "      <td>Mid Level</td>\n",
       "      <td>[ 10 ]</td>\n",
       "      <td>Full Time</td>\n",
       "      <td>Negotiable</td>\n",
       "      <td>Bachelor</td>\n",
       "      <td>More than or equals to 5 years</td>\n",
       "    </tr>\n",
       "    <tr>\n",
       "      <th>3</th>\n",
       "      <td>3</td>\n",
       "      <td>Senior Laravel Web Developer</td>\n",
       "      <td>SabKura.com</td>\n",
       "      <td>New Baneshwor, Kathmandu, Nepal</td>\n",
       "      <td>['Php', 'Html', 'Css', 'Javascript', 'Vue Js']</td>\n",
       "      <td>IT &amp; Telecommunication\\n &gt; Content Developer, ...</td>\n",
       "      <td>Mid Level</td>\n",
       "      <td>[ 5 ]</td>\n",
       "      <td>Full Time</td>\n",
       "      <td>NRs. 80,000.00 - 160,000.00 Monthly</td>\n",
       "      <td>Bachelor</td>\n",
       "      <td>More than or equals to 4 years</td>\n",
       "    </tr>\n",
       "    <tr>\n",
       "      <th>4</th>\n",
       "      <td>4</td>\n",
       "      <td>Senior Software Engineer (Pytho…</td>\n",
       "      <td>Logpoint Nepal</td>\n",
       "      <td>Jawalakhel ,Lalitpur</td>\n",
       "      <td>['Teamwork', 'Problem Solving', 'Analytical Sk...</td>\n",
       "      <td>IT &amp; Telecommunication</td>\n",
       "      <td>Senior Level</td>\n",
       "      <td>[ 5 ]</td>\n",
       "      <td>Full Time</td>\n",
       "      <td>Negotiable</td>\n",
       "      <td>Bachelor</td>\n",
       "      <td>More than or equals to 5 years</td>\n",
       "    </tr>\n",
       "  </tbody>\n",
       "</table>\n",
       "</div>"
      ],
      "text/plain": [
       "   id                             Title         Company  \\\n",
       "0   0                 Backend Developer    Codeware Lab   \n",
       "1   1                Asp. Net Developer         Exotrac   \n",
       "2   2  Linux Ninja Wanted ( Excellent …    Tech Central   \n",
       "3   3      Senior Laravel Web Developer     SabKura.com   \n",
       "4   4  Senior Software Engineer (Pytho…  Logpoint Nepal   \n",
       "\n",
       "                                   Location  \\\n",
       "0  Dharmasthal Marg, Kathmandu 44600, Nepal   \n",
       "1                             Old Baneshwor   \n",
       "2                          Kathmandu, Nepal   \n",
       "3           New Baneshwor, Kathmandu, Nepal   \n",
       "4                      Jawalakhel ,Lalitpur   \n",
       "\n",
       "                                           KeySkills  \\\n",
       "0  ['Communication', 'Teamwork', 'Java', 'Analyti...   \n",
       "1                      ['Html', 'Css', 'Javascript']   \n",
       "2  ['Communication', 'Problem Solving', 'Linux', ...   \n",
       "3     ['Php', 'Html', 'Css', 'Javascript', 'Vue Js']   \n",
       "4  ['Teamwork', 'Problem Solving', 'Analytical Sk...   \n",
       "\n",
       "                                        job_category     job_level  \\\n",
       "0  IT & Telecommunication\\n > Programmer/ Softwar...     Mid Level   \n",
       "1  IT & Telecommunication\\n > Database Engineer/D...  Senior Level   \n",
       "2                             IT & Telecommunication     Mid Level   \n",
       "3  IT & Telecommunication\\n > Content Developer, ...     Mid Level   \n",
       "4                             IT & Telecommunication  Senior Level   \n",
       "\n",
       "  no_of_vacancy employment_type                        offered_salary  \\\n",
       "0        [ 25 ]       Full Time  NRs. 200,000.00 - 500,000.00 Monthly   \n",
       "1        [ 10 ]       Full Time        $. 1,000.00 - 1,500.00 Monthly   \n",
       "2        [ 10 ]       Full Time                            Negotiable   \n",
       "3         [ 5 ]       Full Time   NRs. 80,000.00 - 160,000.00 Monthly   \n",
       "4         [ 5 ]       Full Time                            Negotiable   \n",
       "\n",
       "  education_level             experience_required  \n",
       "0        Bachelor  More than or equals to 3 years  \n",
       "1        Bachelor  More than or equals to 3 years  \n",
       "2        Bachelor  More than or equals to 5 years  \n",
       "3        Bachelor  More than or equals to 4 years  \n",
       "4        Bachelor  More than or equals to 5 years  "
      ]
     },
     "execution_count": 21,
     "metadata": {},
     "output_type": "execute_result"
    }
   ],
   "source": [
    "#Changing columns 'Unnamed' into 'id'\n",
    "\n",
    "data.rename(columns={'Unnamed: 0':'id'},inplace=True)\n",
    "data.head()"
   ]
  },
  {
   "cell_type": "code",
   "execution_count": 23,
   "metadata": {},
   "outputs": [
    {
     "data": {
      "text/html": [
       "<div>\n",
       "<style scoped>\n",
       "    .dataframe tbody tr th:only-of-type {\n",
       "        vertical-align: middle;\n",
       "    }\n",
       "\n",
       "    .dataframe tbody tr th {\n",
       "        vertical-align: top;\n",
       "    }\n",
       "\n",
       "    .dataframe thead th {\n",
       "        text-align: right;\n",
       "    }\n",
       "</style>\n",
       "<table border=\"1\" class=\"dataframe\">\n",
       "  <thead>\n",
       "    <tr style=\"text-align: right;\">\n",
       "      <th></th>\n",
       "      <th>id</th>\n",
       "    </tr>\n",
       "  </thead>\n",
       "  <tbody>\n",
       "    <tr>\n",
       "      <th>count</th>\n",
       "      <td>60.000000</td>\n",
       "    </tr>\n",
       "    <tr>\n",
       "      <th>mean</th>\n",
       "      <td>29.500000</td>\n",
       "    </tr>\n",
       "    <tr>\n",
       "      <th>std</th>\n",
       "      <td>17.464249</td>\n",
       "    </tr>\n",
       "    <tr>\n",
       "      <th>min</th>\n",
       "      <td>0.000000</td>\n",
       "    </tr>\n",
       "    <tr>\n",
       "      <th>25%</th>\n",
       "      <td>14.750000</td>\n",
       "    </tr>\n",
       "    <tr>\n",
       "      <th>50%</th>\n",
       "      <td>29.500000</td>\n",
       "    </tr>\n",
       "    <tr>\n",
       "      <th>75%</th>\n",
       "      <td>44.250000</td>\n",
       "    </tr>\n",
       "    <tr>\n",
       "      <th>max</th>\n",
       "      <td>59.000000</td>\n",
       "    </tr>\n",
       "  </tbody>\n",
       "</table>\n",
       "</div>"
      ],
      "text/plain": [
       "              id\n",
       "count  60.000000\n",
       "mean   29.500000\n",
       "std    17.464249\n",
       "min     0.000000\n",
       "25%    14.750000\n",
       "50%    29.500000\n",
       "75%    44.250000\n",
       "max    59.000000"
      ]
     },
     "execution_count": 23,
     "metadata": {},
     "output_type": "execute_result"
    }
   ],
   "source": [
    "#describing the dataset\n",
    "\n",
    "data.describe()"
   ]
  },
  {
   "cell_type": "code",
   "execution_count": 25,
   "metadata": {},
   "outputs": [
    {
     "data": {
      "text/plain": [
       "id                     0\n",
       "Title                  0\n",
       "Company                0\n",
       "Location               0\n",
       "KeySkills              0\n",
       "job_category           0\n",
       "job_level              0\n",
       "no_of_vacancy          0\n",
       "employment_type        0\n",
       "offered_salary         0\n",
       "education_level        0\n",
       "experience_required    0\n",
       "dtype: int64"
      ]
     },
     "execution_count": 25,
     "metadata": {},
     "output_type": "execute_result"
    }
   ],
   "source": [
    "#checking total null values of columns\n",
    "\n",
    "\n",
    "data.isnull().sum()"
   ]
  },
  {
   "cell_type": "code",
   "execution_count": 30,
   "metadata": {},
   "outputs": [
    {
     "data": {
      "text/plain": [
       "Mid Level       36\n",
       "Senior Level    12\n",
       "Entry Level     12\n",
       "Name: job_level, dtype: int64"
      ]
     },
     "execution_count": 30,
     "metadata": {},
     "output_type": "execute_result"
    }
   ],
   "source": [
    "#job level type\n",
    "\n",
    "data.job_level.value_counts()"
   ]
  },
  {
   "cell_type": "code",
   "execution_count": 31,
   "metadata": {},
   "outputs": [
    {
     "data": {
      "text/plain": [
       "Full Time      58\n",
       "Traineeship     1\n",
       "Part Time       1\n",
       "Name: employment_type, dtype: int64"
      ]
     },
     "execution_count": 31,
     "metadata": {},
     "output_type": "execute_result"
    }
   ],
   "source": [
    "#employment type\n",
    "\n",
    "data.employment_type.value_counts()"
   ]
  },
  {
   "cell_type": "code",
   "execution_count": 34,
   "metadata": {},
   "outputs": [
    {
     "data": {
      "text/plain": [
       "[ 1 ]     38\n",
       "[ 2 ]      5\n",
       "[ 5 ]      4\n",
       "[ 3 ]      4\n",
       "[ 4 ]      3\n",
       "[ 10 ]     2\n",
       "[ 25 ]     1\n",
       "[ 6 ]      1\n",
       "[ 9 ]      1\n",
       "[ 15 ]     1\n",
       "Name: no_of_vacancy, dtype: int64"
      ]
     },
     "execution_count": 34,
     "metadata": {},
     "output_type": "execute_result"
    }
   ],
   "source": [
    "data.no_of_vacancy.value_counts()"
   ]
  },
  {
   "attachments": {},
   "cell_type": "markdown",
   "metadata": {},
   "source": [
    "**Here we got , 38 jobs are opened for only 1 position vacancy where 5 jobs are opened for 2 position vacancy and so on**"
   ]
  },
  {
   "cell_type": "code",
   "execution_count": null,
   "metadata": {},
   "outputs": [],
   "source": []
  }
 ],
 "metadata": {
  "kernelspec": {
   "display_name": "Python 3",
   "language": "python",
   "name": "python3"
  },
  "language_info": {
   "codemirror_mode": {
    "name": "ipython",
    "version": 3
   },
   "file_extension": ".py",
   "mimetype": "text/x-python",
   "name": "python",
   "nbconvert_exporter": "python",
   "pygments_lexer": "ipython3",
   "version": "3.10.6"
  },
  "orig_nbformat": 4
 },
 "nbformat": 4,
 "nbformat_minor": 2
}
