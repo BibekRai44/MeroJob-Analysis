{
 "cells": [
  {
   "attachments": {},
   "cell_type": "markdown",
   "metadata": {},
   "source": [
    "## In this notebook,we visualize the dataset with different parameters."
   ]
  },
  {
   "cell_type": "code",
   "execution_count": 1,
   "metadata": {},
   "outputs": [],
   "source": [
    "#importing necessary libraries\n",
    "\n",
    "import pandas as pd\n",
    "import numpy as np\n",
    "import seaborn as sns\n",
    "import matplotlib\n",
    "from matplotlib import pyplot as plt\n",
    "import warnings\n",
    "warnings.filterwarnings('ignore')"
   ]
  },
  {
   "cell_type": "code",
   "execution_count": 3,
   "metadata": {},
   "outputs": [
    {
     "data": {
      "text/html": [
       "<div>\n",
       "<style scoped>\n",
       "    .dataframe tbody tr th:only-of-type {\n",
       "        vertical-align: middle;\n",
       "    }\n",
       "\n",
       "    .dataframe tbody tr th {\n",
       "        vertical-align: top;\n",
       "    }\n",
       "\n",
       "    .dataframe thead th {\n",
       "        text-align: right;\n",
       "    }\n",
       "</style>\n",
       "<table border=\"1\" class=\"dataframe\">\n",
       "  <thead>\n",
       "    <tr style=\"text-align: right;\">\n",
       "      <th></th>\n",
       "      <th>Unnamed: 0</th>\n",
       "      <th>Title</th>\n",
       "      <th>Company</th>\n",
       "      <th>Location</th>\n",
       "      <th>KeySkills</th>\n",
       "      <th>job_category</th>\n",
       "      <th>job_level</th>\n",
       "      <th>no_of_vacancy</th>\n",
       "      <th>employment_type</th>\n",
       "      <th>offered_salary</th>\n",
       "      <th>education_level</th>\n",
       "      <th>experience_required</th>\n",
       "    </tr>\n",
       "  </thead>\n",
       "  <tbody>\n",
       "    <tr>\n",
       "      <th>0</th>\n",
       "      <td>0</td>\n",
       "      <td>Backend Developer</td>\n",
       "      <td>Codeware Lab</td>\n",
       "      <td>Dharmasthal Marg, Kathmandu 44600, Nepal</td>\n",
       "      <td>['Communication', 'Teamwork', 'Java', 'Analyti...</td>\n",
       "      <td>IT &amp; Telecommunication\\n &gt; Programmer/ Softwar...</td>\n",
       "      <td>Mid Level</td>\n",
       "      <td>[ 25 ]</td>\n",
       "      <td>Full Time</td>\n",
       "      <td>NRs. 200,000.00 - 500,000.00 Monthly</td>\n",
       "      <td>Bachelor</td>\n",
       "      <td>More than or equals to 3 years</td>\n",
       "    </tr>\n",
       "    <tr>\n",
       "      <th>1</th>\n",
       "      <td>1</td>\n",
       "      <td>Asp. Net Developer</td>\n",
       "      <td>Exotrac</td>\n",
       "      <td>Old Baneshwor</td>\n",
       "      <td>['Html', 'Css', 'Javascript']</td>\n",
       "      <td>IT &amp; Telecommunication\\n &gt; Database Engineer/D...</td>\n",
       "      <td>Senior Level</td>\n",
       "      <td>[ 10 ]</td>\n",
       "      <td>Full Time</td>\n",
       "      <td>$. 1,000.00 - 1,500.00 Monthly</td>\n",
       "      <td>Bachelor</td>\n",
       "      <td>More than or equals to 3 years</td>\n",
       "    </tr>\n",
       "    <tr>\n",
       "      <th>2</th>\n",
       "      <td>2</td>\n",
       "      <td>Linux Ninja Wanted ( Excellent …</td>\n",
       "      <td>Tech Central</td>\n",
       "      <td>Kathmandu, Nepal</td>\n",
       "      <td>['Communication', 'Problem Solving', 'Linux', ...</td>\n",
       "      <td>IT &amp; Telecommunication</td>\n",
       "      <td>Mid Level</td>\n",
       "      <td>[ 10 ]</td>\n",
       "      <td>Full Time</td>\n",
       "      <td>Negotiable</td>\n",
       "      <td>Bachelor</td>\n",
       "      <td>More than or equals to 5 years</td>\n",
       "    </tr>\n",
       "    <tr>\n",
       "      <th>3</th>\n",
       "      <td>3</td>\n",
       "      <td>Senior Laravel Web Developer</td>\n",
       "      <td>SabKura.com</td>\n",
       "      <td>New Baneshwor, Kathmandu, Nepal</td>\n",
       "      <td>['Php', 'Html', 'Css', 'Javascript', 'Vue Js']</td>\n",
       "      <td>IT &amp; Telecommunication\\n &gt; Content Developer, ...</td>\n",
       "      <td>Mid Level</td>\n",
       "      <td>[ 5 ]</td>\n",
       "      <td>Full Time</td>\n",
       "      <td>NRs. 80,000.00 - 160,000.00 Monthly</td>\n",
       "      <td>Bachelor</td>\n",
       "      <td>More than or equals to 4 years</td>\n",
       "    </tr>\n",
       "    <tr>\n",
       "      <th>4</th>\n",
       "      <td>4</td>\n",
       "      <td>Senior Software Engineer (Pytho…</td>\n",
       "      <td>Logpoint Nepal</td>\n",
       "      <td>Jawalakhel ,Lalitpur</td>\n",
       "      <td>['Teamwork', 'Problem Solving', 'Analytical Sk...</td>\n",
       "      <td>IT &amp; Telecommunication</td>\n",
       "      <td>Senior Level</td>\n",
       "      <td>[ 5 ]</td>\n",
       "      <td>Full Time</td>\n",
       "      <td>Negotiable</td>\n",
       "      <td>Bachelor</td>\n",
       "      <td>More than or equals to 5 years</td>\n",
       "    </tr>\n",
       "  </tbody>\n",
       "</table>\n",
       "</div>"
      ],
      "text/plain": [
       "   Unnamed: 0                             Title         Company  \\\n",
       "0           0                 Backend Developer    Codeware Lab   \n",
       "1           1                Asp. Net Developer         Exotrac   \n",
       "2           2  Linux Ninja Wanted ( Excellent …    Tech Central   \n",
       "3           3      Senior Laravel Web Developer     SabKura.com   \n",
       "4           4  Senior Software Engineer (Pytho…  Logpoint Nepal   \n",
       "\n",
       "                                   Location  \\\n",
       "0  Dharmasthal Marg, Kathmandu 44600, Nepal   \n",
       "1                             Old Baneshwor   \n",
       "2                          Kathmandu, Nepal   \n",
       "3           New Baneshwor, Kathmandu, Nepal   \n",
       "4                      Jawalakhel ,Lalitpur   \n",
       "\n",
       "                                           KeySkills  \\\n",
       "0  ['Communication', 'Teamwork', 'Java', 'Analyti...   \n",
       "1                      ['Html', 'Css', 'Javascript']   \n",
       "2  ['Communication', 'Problem Solving', 'Linux', ...   \n",
       "3     ['Php', 'Html', 'Css', 'Javascript', 'Vue Js']   \n",
       "4  ['Teamwork', 'Problem Solving', 'Analytical Sk...   \n",
       "\n",
       "                                        job_category     job_level  \\\n",
       "0  IT & Telecommunication\\n > Programmer/ Softwar...     Mid Level   \n",
       "1  IT & Telecommunication\\n > Database Engineer/D...  Senior Level   \n",
       "2                             IT & Telecommunication     Mid Level   \n",
       "3  IT & Telecommunication\\n > Content Developer, ...     Mid Level   \n",
       "4                             IT & Telecommunication  Senior Level   \n",
       "\n",
       "  no_of_vacancy employment_type                        offered_salary  \\\n",
       "0        [ 25 ]       Full Time  NRs. 200,000.00 - 500,000.00 Monthly   \n",
       "1        [ 10 ]       Full Time        $. 1,000.00 - 1,500.00 Monthly   \n",
       "2        [ 10 ]       Full Time                            Negotiable   \n",
       "3         [ 5 ]       Full Time   NRs. 80,000.00 - 160,000.00 Monthly   \n",
       "4         [ 5 ]       Full Time                            Negotiable   \n",
       "\n",
       "  education_level             experience_required  \n",
       "0        Bachelor  More than or equals to 3 years  \n",
       "1        Bachelor  More than or equals to 3 years  \n",
       "2        Bachelor  More than or equals to 5 years  \n",
       "3        Bachelor  More than or equals to 4 years  \n",
       "4        Bachelor  More than or equals to 5 years  "
      ]
     },
     "execution_count": 3,
     "metadata": {},
     "output_type": "execute_result"
    }
   ],
   "source": [
    "#reading csv file \n",
    "\n",
    "data=pd.read_csv('/Users/bibekrai/tensorflow-test/MeroJob-Analysis/mergeddata.csv')\n",
    "data.head()"
   ]
  },
  {
   "cell_type": "code",
   "execution_count": 43,
   "metadata": {},
   "outputs": [
    {
     "data": {
      "text/html": [
       "<div>\n",
       "<style scoped>\n",
       "    .dataframe tbody tr th:only-of-type {\n",
       "        vertical-align: middle;\n",
       "    }\n",
       "\n",
       "    .dataframe tbody tr th {\n",
       "        vertical-align: top;\n",
       "    }\n",
       "\n",
       "    .dataframe thead th {\n",
       "        text-align: right;\n",
       "    }\n",
       "</style>\n",
       "<table border=\"1\" class=\"dataframe\">\n",
       "  <thead>\n",
       "    <tr style=\"text-align: right;\">\n",
       "      <th></th>\n",
       "      <th>id</th>\n",
       "      <th>Title</th>\n",
       "      <th>Company</th>\n",
       "      <th>Location</th>\n",
       "      <th>KeySkills</th>\n",
       "      <th>job_category</th>\n",
       "      <th>job_level</th>\n",
       "      <th>no_of_vacancy</th>\n",
       "      <th>employment_type</th>\n",
       "      <th>offered_salary</th>\n",
       "      <th>education_level</th>\n",
       "      <th>experience_required</th>\n",
       "    </tr>\n",
       "  </thead>\n",
       "  <tbody>\n",
       "    <tr>\n",
       "      <th>0</th>\n",
       "      <td>0</td>\n",
       "      <td>Backend Developer</td>\n",
       "      <td>Codeware Lab</td>\n",
       "      <td>Dharmasthal Marg, Kathmandu 44600, Nepal</td>\n",
       "      <td>['Communication', 'Teamwork', 'Java', 'Analyti...</td>\n",
       "      <td>IT &amp; Telecommunication\\n &gt; Programmer/ Softwar...</td>\n",
       "      <td>Mid Level</td>\n",
       "      <td>[ 25 ]</td>\n",
       "      <td>Full Time</td>\n",
       "      <td>NRs. 200,000.00 - 500,000.00 Monthly</td>\n",
       "      <td>Bachelor</td>\n",
       "      <td>More than or equals to 3 years</td>\n",
       "    </tr>\n",
       "    <tr>\n",
       "      <th>1</th>\n",
       "      <td>1</td>\n",
       "      <td>Asp. Net Developer</td>\n",
       "      <td>Exotrac</td>\n",
       "      <td>Old Baneshwor</td>\n",
       "      <td>['Html', 'Css', 'Javascript']</td>\n",
       "      <td>IT &amp; Telecommunication\\n &gt; Database Engineer/D...</td>\n",
       "      <td>Senior Level</td>\n",
       "      <td>[ 10 ]</td>\n",
       "      <td>Full Time</td>\n",
       "      <td>$. 1,000.00 - 1,500.00 Monthly</td>\n",
       "      <td>Bachelor</td>\n",
       "      <td>More than or equals to 3 years</td>\n",
       "    </tr>\n",
       "    <tr>\n",
       "      <th>2</th>\n",
       "      <td>2</td>\n",
       "      <td>Linux Ninja Wanted ( Excellent …</td>\n",
       "      <td>Tech Central</td>\n",
       "      <td>Kathmandu, Nepal</td>\n",
       "      <td>['Communication', 'Problem Solving', 'Linux', ...</td>\n",
       "      <td>IT &amp; Telecommunication</td>\n",
       "      <td>Mid Level</td>\n",
       "      <td>[ 10 ]</td>\n",
       "      <td>Full Time</td>\n",
       "      <td>Negotiable</td>\n",
       "      <td>Bachelor</td>\n",
       "      <td>More than or equals to 5 years</td>\n",
       "    </tr>\n",
       "    <tr>\n",
       "      <th>3</th>\n",
       "      <td>3</td>\n",
       "      <td>Senior Laravel Web Developer</td>\n",
       "      <td>SabKura.com</td>\n",
       "      <td>New Baneshwor, Kathmandu, Nepal</td>\n",
       "      <td>['Php', 'Html', 'Css', 'Javascript', 'Vue Js']</td>\n",
       "      <td>IT &amp; Telecommunication\\n &gt; Content Developer, ...</td>\n",
       "      <td>Mid Level</td>\n",
       "      <td>[ 5 ]</td>\n",
       "      <td>Full Time</td>\n",
       "      <td>NRs. 80,000.00 - 160,000.00 Monthly</td>\n",
       "      <td>Bachelor</td>\n",
       "      <td>More than or equals to 4 years</td>\n",
       "    </tr>\n",
       "    <tr>\n",
       "      <th>4</th>\n",
       "      <td>4</td>\n",
       "      <td>Senior Software Engineer (Pytho…</td>\n",
       "      <td>Logpoint Nepal</td>\n",
       "      <td>Jawalakhel ,Lalitpur</td>\n",
       "      <td>['Teamwork', 'Problem Solving', 'Analytical Sk...</td>\n",
       "      <td>IT &amp; Telecommunication</td>\n",
       "      <td>Senior Level</td>\n",
       "      <td>[ 5 ]</td>\n",
       "      <td>Full Time</td>\n",
       "      <td>Negotiable</td>\n",
       "      <td>Bachelor</td>\n",
       "      <td>More than or equals to 5 years</td>\n",
       "    </tr>\n",
       "  </tbody>\n",
       "</table>\n",
       "</div>"
      ],
      "text/plain": [
       "   id                             Title         Company  \\\n",
       "0   0                 Backend Developer    Codeware Lab   \n",
       "1   1                Asp. Net Developer         Exotrac   \n",
       "2   2  Linux Ninja Wanted ( Excellent …    Tech Central   \n",
       "3   3      Senior Laravel Web Developer     SabKura.com   \n",
       "4   4  Senior Software Engineer (Pytho…  Logpoint Nepal   \n",
       "\n",
       "                                   Location  \\\n",
       "0  Dharmasthal Marg, Kathmandu 44600, Nepal   \n",
       "1                             Old Baneshwor   \n",
       "2                          Kathmandu, Nepal   \n",
       "3           New Baneshwor, Kathmandu, Nepal   \n",
       "4                      Jawalakhel ,Lalitpur   \n",
       "\n",
       "                                           KeySkills  \\\n",
       "0  ['Communication', 'Teamwork', 'Java', 'Analyti...   \n",
       "1                      ['Html', 'Css', 'Javascript']   \n",
       "2  ['Communication', 'Problem Solving', 'Linux', ...   \n",
       "3     ['Php', 'Html', 'Css', 'Javascript', 'Vue Js']   \n",
       "4  ['Teamwork', 'Problem Solving', 'Analytical Sk...   \n",
       "\n",
       "                                        job_category     job_level  \\\n",
       "0  IT & Telecommunication\\n > Programmer/ Softwar...     Mid Level   \n",
       "1  IT & Telecommunication\\n > Database Engineer/D...  Senior Level   \n",
       "2                             IT & Telecommunication     Mid Level   \n",
       "3  IT & Telecommunication\\n > Content Developer, ...     Mid Level   \n",
       "4                             IT & Telecommunication  Senior Level   \n",
       "\n",
       "  no_of_vacancy employment_type                        offered_salary  \\\n",
       "0        [ 25 ]       Full Time  NRs. 200,000.00 - 500,000.00 Monthly   \n",
       "1        [ 10 ]       Full Time        $. 1,000.00 - 1,500.00 Monthly   \n",
       "2        [ 10 ]       Full Time                            Negotiable   \n",
       "3         [ 5 ]       Full Time   NRs. 80,000.00 - 160,000.00 Monthly   \n",
       "4         [ 5 ]       Full Time                            Negotiable   \n",
       "\n",
       "  education_level             experience_required  \n",
       "0        Bachelor  More than or equals to 3 years  \n",
       "1        Bachelor  More than or equals to 3 years  \n",
       "2        Bachelor  More than or equals to 5 years  \n",
       "3        Bachelor  More than or equals to 4 years  \n",
       "4        Bachelor  More than or equals to 5 years  "
      ]
     },
     "execution_count": 43,
     "metadata": {},
     "output_type": "execute_result"
    }
   ],
   "source": [
    "data.rename(columns={'Unnamed: 0':'id'},inplace=True)\n",
    "data.head()"
   ]
  },
  {
   "attachments": {},
   "cell_type": "markdown",
   "metadata": {},
   "source": [
    "## Data Visulization"
   ]
  },
  {
   "cell_type": "code",
   "execution_count": 57,
   "metadata": {},
   "outputs": [
    {
     "data": {
      "text/plain": [
       "([<matplotlib.patches.Wedge at 0x1688637c0>,\n",
       "  <matplotlib.patches.Wedge at 0x168919d50>,\n",
       "  <matplotlib.patches.Wedge at 0x16891a620>],\n",
       " [Text(-0.3708204787324998, 1.1412677917792124, 'Mid Level'),\n",
       "  Text(-0.37082021159948414, -1.1412678785759782, 'Senior Level'),\n",
       "  Text(0.9708205187238548, -0.7053421300509034, 'Entry Level')],\n",
       " [Text(-0.21631194592729153, 0.6657395452045405, '60%'),\n",
       "  Text(-0.21631179009969909, -0.6657395958359873, '20%'),\n",
       "  Text(0.5663119692555819, -0.411449575863027, '20%')])"
      ]
     },
     "execution_count": 57,
     "metadata": {},
     "output_type": "execute_result"
    },
    {
     "data": {
      "image/png": "[encoded data removed]",
      "text/plain": [
       "<Figure size 640x480 with 1 Axes>"
      ]
     },
     "metadata": {},
     "output_type": "display_data"
    }
   ],
   "source": [
    "#finding what are the level of job posted\n",
    "\n",
    "mylabels=['Mid Level','Senior Level','Entry Level']\n",
    "myexplode=[0.1,0.1,0.1]\n",
    "plt.title('Levels of jobs posted',color='red')\n",
    "plt.pie(data['job_level'].value_counts(),shadow=True,autopct='%.0f%%',labels=mylabels,explode=myexplode)"
   ]
  },
  {
   "cell_type": "code",
   "execution_count": 58,
   "metadata": {},
   "outputs": [
    {
     "data": {
      "text/plain": [
       "[<matplotlib.lines.Line2D at 0x16897d090>]"
      ]
     },
     "execution_count": 58,
     "metadata": {},
     "output_type": "execute_result"
    },
    {
     "data": {
      "image/png": "[encoded data removed]",
      "text/plain": [
       "<Figure size 640x480 with 1 Axes>"
      ]
     },
     "metadata": {},
     "output_type": "display_data"
    }
   ],
   "source": [
    "#finding the employment type jobs\n",
    "\n",
    "plt.title('Employment type jobs posted',color='red')\n",
    "plt.plot(data['employment_type'].value_counts(),color='green',marker='o',linestyle='dashed',linewidth=3)"
   ]
  },
  {
   "cell_type": "code",
   "execution_count": 59,
   "metadata": {},
   "outputs": [
    {
     "data": {
      "text/plain": [
       "Bachelor        58\n",
       "Master           1\n",
       "Intermediate     1\n",
       "Name: education_level, dtype: int64"
      ]
     },
     "execution_count": 59,
     "metadata": {},
     "output_type": "execute_result"
    }
   ],
   "source": [
    "#checking education level counts required for job\n",
    "\n",
    "data['education_level'].value_counts()"
   ]
  },
  {
   "cell_type": "code",
   "execution_count": 65,
   "metadata": {},
   "outputs": [
    {
     "data": {
      "text/plain": [
       "[Text(0.5, 1.0, 'Required education level to apply in jobs ')]"
      ]
     },
     "execution_count": 65,
     "metadata": {},
     "output_type": "execute_result"
    },
    {
     "data": {
      "image/png": "[encoded data removed]",
      "text/plain": [
       "<Figure size 640x480 with 1 Axes>"
      ]
     },
     "metadata": {},
     "output_type": "display_data"
    }
   ],
   "source": [
    "#finding how many education level type are required for appliying in job\n",
    "\n",
    "sns.countplot(data=data,x=data['education_level']).set(title='Required education level to apply in jobs ')"
   ]
  },
  {
   "cell_type": "code",
   "execution_count": null,
   "metadata": {},
   "outputs": [],
   "source": []
  }
 ],
 "metadata": {
  "kernelspec": {
   "display_name": "Python 3",
   "language": "python",
   "name": "python3"
  },
  "language_info": {
   "codemirror_mode": {
    "name": "ipython",
    "version": 3
   },
   "file_extension": ".py",
   "mimetype": "text/x-python",
   "name": "python",
   "nbconvert_exporter": "python",
   "pygments_lexer": "ipython3",
   "version": "3.10.6"
  },
  "orig_nbformat": 4
 },
 "nbformat": 4,
 "nbformat_minor": 2
}
